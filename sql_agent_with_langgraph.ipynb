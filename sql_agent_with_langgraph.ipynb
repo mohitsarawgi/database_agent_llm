{
 "cells": [
  {
   "cell_type": "code",
   "execution_count": 1,
   "metadata": {},
   "outputs": [],
   "source": [
    "import sqlite3"
   ]
  },
  {
   "cell_type": "code",
   "execution_count": 2,
   "metadata": {},
   "outputs": [],
   "source": [
    "connection = sqlite3.connect(\"my_db.db\", timeout = 10)"
   ]
  },
  {
   "cell_type": "code",
   "execution_count": 3,
   "metadata": {},
   "outputs": [],
   "source": [
    "table1 = \"\"\"\n",
    "\n",
    "CREATE TABLE IF NOT EXISTS employee(\n",
    "    emp_id INTEGER PRIMARY KEY,\n",
    "    first_name TEXT NOT NULL,\n",
    "    email TEXT UNIQUE NOT NULL,\n",
    "    hire_date TEXT NOT NULL,\n",
    "    salary NOT NULL\n",
    ");\n",
    "\n",
    "\"\"\""
   ]
  },
  {
   "cell_type": "code",
   "execution_count": 4,
   "metadata": {},
   "outputs": [],
   "source": [
    "table2 = \"\"\"\n",
    "\n",
    "CREATE TABLE IF NOT EXISTS customer(\n",
    "    customer_id INTEGER PRIMARY KEY AUTOINCREMENT,\n",
    "    first_name TEXT NOT NULL,\n",
    "    email TEXT UNIQUE NOT NULL,\n",
    "    phone TEXT\n",
    ");\n",
    "\"\"\""
   ]
  },
  {
   "cell_type": "code",
   "execution_count": 5,
   "metadata": {},
   "outputs": [],
   "source": [
    "table3 = \"\"\"\n",
    "CREATE TABLE IF NOT EXISTS orders (\n",
    "    order_id INTEGER PRIMARY KEY AUTOINCREMENT,\n",
    "    customer_id INTEGER NOT NULL,\n",
    "    order_date TEXT NOT NULL,\n",
    "    amount REAL NOT NULL,\n",
    "    phone TEXT\n",
    ");\n",
    "\"\"\""
   ]
  },
  {
   "cell_type": "code",
   "execution_count": 6,
   "metadata": {},
   "outputs": [
    {
     "data": {
      "text/plain": [
       "<sqlite3.Connection at 0x7e357dd1d540>"
      ]
     },
     "execution_count": 6,
     "metadata": {},
     "output_type": "execute_result"
    }
   ],
   "source": [
    "connection"
   ]
  },
  {
   "cell_type": "code",
   "execution_count": 7,
   "metadata": {},
   "outputs": [],
   "source": [
    "# cursor is a method through which put data inside table\n",
    "cursor = connection.cursor() "
   ]
  },
  {
   "cell_type": "code",
   "execution_count": 8,
   "metadata": {},
   "outputs": [
    {
     "data": {
      "text/plain": [
       "<sqlite3.Cursor at 0x7e357fbd6240>"
      ]
     },
     "execution_count": 8,
     "metadata": {},
     "output_type": "execute_result"
    }
   ],
   "source": [
    "cursor.execute(table1)\n",
    "cursor.execute(table2)\n",
    "cursor.execute(table3)"
   ]
  },
  {
   "cell_type": "code",
   "execution_count": 9,
   "metadata": {},
   "outputs": [],
   "source": [
    "insert_query_employe = \"\"\"\n",
    "INSERT INTO employee(emp_id, first_name, email, hire_date, salary)\n",
    "VALUES (?, ?, ?, ?, ?)\n",
    "\"\"\"\n",
    "\n",
    "insert_query_customer = \"\"\"\n",
    "INSERT INTO customer(customer_id, first_name, email, phone)\n",
    "VALUES (?, ?, ?, ?)\n",
    "\"\"\"\n",
    "\n",
    "insert_query_order = \"\"\"\n",
    "INSERT INTO orders(order_id, customer_id, order_date, amount, phone)\n",
    "VALUES (?, ?, ?, ?, ?)\n",
    "\"\"\""
   ]
  },
  {
   "cell_type": "code",
   "execution_count": 10,
   "metadata": {},
   "outputs": [],
   "source": [
    "# Peoplesa data\n",
    "\n",
    "employee_data = [\n",
    "    (1 , \"Mohit\", \"mohit@gmail.com\", \"1-9-2025\", 50000),\n",
    "    (2 , \"X\", \"x@gmail.com\", \"1-9-2025\", 10000),\n",
    "    (3 , \"Y\", \"y@gmail.com\", \"1-9-2025\", 20000),\n",
    "    (4 , \"Z\", \"z@gmail.com\", \"1-9-2025\", 30000),\n",
    "    (5 , \"w\", \"w@gmail.com\", \"1-9-2025\", 40000),\n",
    "]\n",
    "\n",
    "customer_data = [\n",
    "    (1 , \"a\", \"a@gmail.com\", \"123456\"),\n",
    "    (2 , \"b\", \"b@gmail.com\", \"234567\"),\n",
    "    (3 , \"c\", \"c@gmail.com\", \"345678\"),\n",
    "    (4 , \"d\", \"d@gmail.com\", \"456789\"),\n",
    "    (5 , \"e\", \"e@gmail.com\", \"567890\"),\n",
    "]\n",
    "\n",
    "order_data = [\n",
    "    (10 , 1, \"2-9-25\",123, \"123456\"),\n",
    "    (20 , 2, \"2-9-25\",234, \"234567\"),\n",
    "    (30 , 3, \"2-9-25\",345, \"345678\"),\n",
    "    (40 , 4, \"2-9-25\",456, \"456789\"),\n",
    "    (50 , 5, \"2-9-25\",678, \"567890\"),\n",
    "]"
   ]
  },
  {
   "cell_type": "code",
   "execution_count": null,
   "metadata": {},
   "outputs": [],
   "source": []
  },
  {
   "cell_type": "code",
   "execution_count": 11,
   "metadata": {},
   "outputs": [
    {
     "ename": "IntegrityError",
     "evalue": "UNIQUE constraint failed: employee.emp_id",
     "output_type": "error",
     "traceback": [
      "\u001b[0;31m---------------------------------------------------------------------------\u001b[0m",
      "\u001b[0;31mIntegrityError\u001b[0m                            Traceback (most recent call last)",
      "Cell \u001b[0;32mIn[11], line 1\u001b[0m\n\u001b[0;32m----> 1\u001b[0m \u001b[43mcursor\u001b[49m\u001b[38;5;241;43m.\u001b[39;49m\u001b[43mexecutemany\u001b[49m\u001b[43m(\u001b[49m\u001b[43minsert_query_employe\u001b[49m\u001b[43m,\u001b[49m\u001b[43m \u001b[49m\u001b[43memployee_data\u001b[49m\u001b[43m)\u001b[49m\n\u001b[1;32m      2\u001b[0m cursor\u001b[38;5;241m.\u001b[39mexecutemany(insert_query_customer,customer_data)\n\u001b[1;32m      3\u001b[0m cursor\u001b[38;5;241m.\u001b[39mexecutemany(insert_query_order, order_data)\n",
      "\u001b[0;31mIntegrityError\u001b[0m: UNIQUE constraint failed: employee.emp_id"
     ]
    }
   ],
   "source": [
    "cursor.executemany(insert_query_employe, employee_data)\n",
    "cursor.executemany(insert_query_customer,customer_data)\n",
    "cursor.executemany(insert_query_order, order_data)"
   ]
  },
  {
   "cell_type": "code",
   "execution_count": 12,
   "metadata": {},
   "outputs": [],
   "source": [
    "connection.commit()"
   ]
  },
  {
   "cell_type": "code",
   "execution_count": 13,
   "metadata": {},
   "outputs": [
    {
     "data": {
      "text/plain": [
       "<sqlite3.Cursor at 0x7e357fbd6240>"
      ]
     },
     "execution_count": 13,
     "metadata": {},
     "output_type": "execute_result"
    }
   ],
   "source": [
    "cursor.execute(\"select * from employee;\")"
   ]
  },
  {
   "cell_type": "code",
   "execution_count": 14,
   "metadata": {},
   "outputs": [
    {
     "name": "stdout",
     "output_type": "stream",
     "text": [
      "(1, 'Mohit', 'mohit@gmail.com', '1-9-2025', 50000)\n",
      "(2, 'X', 'x@gmail.com', '1-9-2025', 10000)\n",
      "(3, 'Y', 'y@gmail.com', '1-9-2025', 20000)\n",
      "(4, 'Z', 'z@gmail.com', '1-9-2025', 30000)\n",
      "(5, 'w', 'w@gmail.com', '1-9-2025', 40000)\n"
     ]
    }
   ],
   "source": [
    "for row in cursor.fetchall():\n",
    "    print(row)"
   ]
  },
  {
   "cell_type": "code",
   "execution_count": null,
   "metadata": {},
   "outputs": [],
   "source": []
  },
  {
   "cell_type": "code",
   "execution_count": null,
   "metadata": {},
   "outputs": [],
   "source": []
  },
  {
   "cell_type": "code",
   "execution_count": null,
   "metadata": {},
   "outputs": [],
   "source": []
  }
 ],
 "metadata": {
  "kernelspec": {
   "display_name": "Python 3",
   "language": "python",
   "name": "python3"
  },
  "language_info": {
   "codemirror_mode": {
    "name": "ipython",
    "version": 3
   },
   "file_extension": ".py",
   "mimetype": "text/x-python",
   "name": "python",
   "nbconvert_exporter": "python",
   "pygments_lexer": "ipython3",
   "version": "3.10.0"
  }
 },
 "nbformat": 4,
 "nbformat_minor": 2
}
