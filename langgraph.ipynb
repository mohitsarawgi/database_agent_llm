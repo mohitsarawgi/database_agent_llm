{
 "cells": [
  {
   "cell_type": "code",
   "execution_count": 9,
   "metadata": {},
   "outputs": [],
   "source": [
    "from langchain_community.utilities.sql_database import SQLDatabase\n"
   ]
  },
  {
   "cell_type": "code",
   "execution_count": 10,
   "metadata": {},
   "outputs": [],
   "source": [
    "# loading a database using langchain\n",
    "\n",
    "db = SQLDatabase.from_uri(\"sqlite:///my_db.db\")"
   ]
  },
  {
   "cell_type": "code",
   "execution_count": 11,
   "metadata": {},
   "outputs": [
    {
     "data": {
      "text/plain": [
       "<langchain_community.utilities.sql_database.SQLDatabase at 0x79e018d22bf0>"
      ]
     },
     "execution_count": 11,
     "metadata": {},
     "output_type": "execute_result"
    }
   ],
   "source": [
    "db"
   ]
  },
  {
   "cell_type": "code",
   "execution_count": 12,
   "metadata": {},
   "outputs": [
    {
     "data": {
      "text/plain": [
       "'sqlite'"
      ]
     },
     "execution_count": 12,
     "metadata": {},
     "output_type": "execute_result"
    }
   ],
   "source": [
    "db.dialect"
   ]
  },
  {
   "cell_type": "code",
   "execution_count": 13,
   "metadata": {},
   "outputs": [
    {
     "data": {
      "text/plain": [
       "['customer', 'employee', 'orders']"
      ]
     },
     "execution_count": 13,
     "metadata": {},
     "output_type": "execute_result"
    }
   ],
   "source": [
    "db.get_usable_table_names()"
   ]
  },
  {
   "cell_type": "code",
   "execution_count": 20,
   "metadata": {},
   "outputs": [
    {
     "name": "stdout",
     "output_type": "stream",
     "text": [
      "Collecting langchain-groq\n",
      "  Using cached langchain_groq-0.3.7-py3-none-any.whl.metadata (2.6 kB)\n",
      "Requirement already satisfied: langchain-core<1.0.0,>=0.3.72 in /home/mohit/.local/lib/python3.10/site-packages (from langchain-groq) (0.3.74)\n",
      "Collecting groq<1,>=0.30.0 (from langchain-groq)\n",
      "  Using cached groq-0.31.0-py3-none-any.whl.metadata (16 kB)\n",
      "Requirement already satisfied: anyio<5,>=3.5.0 in /home/mohit/.local/lib/python3.10/site-packages (from groq<1,>=0.30.0->langchain-groq) (3.7.1)\n",
      "Requirement already satisfied: distro<2,>=1.7.0 in /home/mohit/Desktop/mlpipeline_project/mlflow_pipe/venv/lib/python3.10/site-packages (from groq<1,>=0.30.0->langchain-groq) (1.9.0)\n",
      "Requirement already satisfied: httpx<1,>=0.23.0 in /home/mohit/.local/lib/python3.10/site-packages (from groq<1,>=0.30.0->langchain-groq) (0.28.1)\n",
      "Requirement already satisfied: pydantic<3,>=1.9.0 in /home/mohit/.local/lib/python3.10/site-packages (from groq<1,>=0.30.0->langchain-groq) (2.11.7)\n",
      "Requirement already satisfied: sniffio in /home/mohit/.local/lib/python3.10/site-packages (from groq<1,>=0.30.0->langchain-groq) (1.3.0)\n",
      "Requirement already satisfied: typing-extensions<5,>=4.10 in /home/mohit/.local/lib/python3.10/site-packages (from groq<1,>=0.30.0->langchain-groq) (4.14.1)\n",
      "Requirement already satisfied: idna>=2.8 in /home/mohit/Desktop/mlpipeline_project/mlflow_pipe/venv/lib/python3.10/site-packages (from anyio<5,>=3.5.0->groq<1,>=0.30.0->langchain-groq) (3.10)\n",
      "Requirement already satisfied: exceptiongroup in /home/mohit/.local/lib/python3.10/site-packages (from anyio<5,>=3.5.0->groq<1,>=0.30.0->langchain-groq) (1.2.0)\n",
      "Requirement already satisfied: certifi in /home/mohit/Desktop/mlpipeline_project/mlflow_pipe/venv/lib/python3.10/site-packages (from httpx<1,>=0.23.0->groq<1,>=0.30.0->langchain-groq) (2025.7.9)\n",
      "Requirement already satisfied: httpcore==1.* in /home/mohit/.local/lib/python3.10/site-packages (from httpx<1,>=0.23.0->groq<1,>=0.30.0->langchain-groq) (1.0.9)\n",
      "Requirement already satisfied: h11>=0.16 in /home/mohit/.local/lib/python3.10/site-packages (from httpcore==1.*->httpx<1,>=0.23.0->groq<1,>=0.30.0->langchain-groq) (0.16.0)\n",
      "Requirement already satisfied: langsmith>=0.3.45 in /home/mohit/.local/lib/python3.10/site-packages (from langchain-core<1.0.0,>=0.3.72->langchain-groq) (0.4.16)\n",
      "Requirement already satisfied: tenacity!=8.4.0,<10.0.0,>=8.1.0 in /home/mohit/.local/lib/python3.10/site-packages (from langchain-core<1.0.0,>=0.3.72->langchain-groq) (9.1.2)\n",
      "Requirement already satisfied: jsonpatch<2.0,>=1.33 in /home/mohit/.local/lib/python3.10/site-packages (from langchain-core<1.0.0,>=0.3.72->langchain-groq) (1.33)\n",
      "Requirement already satisfied: PyYAML>=5.3 in /home/mohit/.local/lib/python3.10/site-packages (from langchain-core<1.0.0,>=0.3.72->langchain-groq) (6.0.2)\n",
      "Requirement already satisfied: packaging>=23.2 in /home/mohit/.local/lib/python3.10/site-packages (from langchain-core<1.0.0,>=0.3.72->langchain-groq) (25.0)\n",
      "Requirement already satisfied: jsonpointer>=1.9 in /home/mohit/.local/lib/python3.10/site-packages (from jsonpatch<2.0,>=1.33->langchain-core<1.0.0,>=0.3.72->langchain-groq) (3.0.0)\n",
      "Requirement already satisfied: annotated-types>=0.6.0 in /home/mohit/.local/lib/python3.10/site-packages (from pydantic<3,>=1.9.0->groq<1,>=0.30.0->langchain-groq) (0.6.0)\n",
      "Requirement already satisfied: pydantic-core==2.33.2 in /home/mohit/.local/lib/python3.10/site-packages (from pydantic<3,>=1.9.0->groq<1,>=0.30.0->langchain-groq) (2.33.2)\n",
      "Requirement already satisfied: typing-inspection>=0.4.0 in /home/mohit/.local/lib/python3.10/site-packages (from pydantic<3,>=1.9.0->groq<1,>=0.30.0->langchain-groq) (0.4.1)\n",
      "Requirement already satisfied: orjson>=3.9.14 in /home/mohit/.local/lib/python3.10/site-packages (from langsmith>=0.3.45->langchain-core<1.0.0,>=0.3.72->langchain-groq) (3.11.2)\n",
      "Requirement already satisfied: requests-toolbelt>=1.0.0 in /home/mohit/.local/lib/python3.10/site-packages (from langsmith>=0.3.45->langchain-core<1.0.0,>=0.3.72->langchain-groq) (1.0.0)\n",
      "Requirement already satisfied: requests>=2.0.0 in /home/mohit/.local/lib/python3.10/site-packages (from langsmith>=0.3.45->langchain-core<1.0.0,>=0.3.72->langchain-groq) (2.32.5)\n",
      "Requirement already satisfied: zstandard>=0.23.0 in /home/mohit/.local/lib/python3.10/site-packages (from langsmith>=0.3.45->langchain-core<1.0.0,>=0.3.72->langchain-groq) (0.24.0)\n",
      "Requirement already satisfied: charset_normalizer<4,>=2 in /home/mohit/.local/lib/python3.10/site-packages (from requests>=2.0.0->langsmith>=0.3.45->langchain-core<1.0.0,>=0.3.72->langchain-groq) (3.4.3)\n",
      "Requirement already satisfied: urllib3<3,>=1.21.1 in /home/mohit/Desktop/mlpipeline_project/mlflow_pipe/venv/lib/python3.10/site-packages (from requests>=2.0.0->langsmith>=0.3.45->langchain-core<1.0.0,>=0.3.72->langchain-groq) (2.5.0)\n",
      "Using cached langchain_groq-0.3.7-py3-none-any.whl (16 kB)\n",
      "Using cached groq-0.31.0-py3-none-any.whl (131 kB)\n",
      "Installing collected packages: groq, langchain-groq\n",
      "\u001b[2K   \u001b[38;2;114;156;31m━━━━━━━━━━━━━━━━━━━━━━━━━━━━━━━━━━━━━━━━\u001b[0m \u001b[32m2/2\u001b[0m [langchain-groq] \u001b[32m1/2\u001b[0m [langchain-groq]\n",
      "\u001b[1A\u001b[2KSuccessfully installed groq-0.31.0 langchain-groq-0.3.7\n",
      "Note: you may need to restart the kernel to use updated packages.\n"
     ]
    }
   ],
   "source": [
    "pip install langchain-groq"
   ]
  },
  {
   "cell_type": "code",
   "execution_count": 29,
   "metadata": {},
   "outputs": [],
   "source": [
    "from dotenv import load_dotenv\n",
    "import os\n",
    "load_dotenv()\n",
    "api_key = os.getenv(\"API_KEY\")"
   ]
  },
  {
   "cell_type": "code",
   "execution_count": 22,
   "metadata": {},
   "outputs": [],
   "source": [
    "from langchain_groq import ChatGroq"
   ]
  },
  {
   "cell_type": "code",
   "execution_count": 30,
   "metadata": {},
   "outputs": [],
   "source": [
    "llm = ChatGroq(model=\"llama3-70b-8192\", api_key = api_key)"
   ]
  },
  {
   "cell_type": "code",
   "execution_count": 31,
   "metadata": {},
   "outputs": [
    {
     "data": {
      "text/plain": [
       "AIMessage(content='Hi! I\\'m just an AI, I don\\'t have feelings or emotions like humans do, so I don\\'t have good or bad days. I\\'m always \"on\" and ready to help with any questions or tasks you may have! How can I assist you today?', additional_kwargs={}, response_metadata={'token_usage': {'completion_tokens': 56, 'prompt_tokens': 14, 'total_tokens': 70, 'completion_time': 0.139585132, 'prompt_time': 0.01163251, 'queue_time': 0.265882649, 'total_time': 0.151217642}, 'model_name': 'llama3-70b-8192', 'system_fingerprint': 'fp_bf16903a67', 'service_tier': 'on_demand', 'finish_reason': 'stop', 'logprobs': None}, id='run--c9a1d2f4-1495-4db6-956f-39559d20982d-0', usage_metadata={'input_tokens': 14, 'output_tokens': 56, 'total_tokens': 70})"
      ]
     },
     "execution_count": 31,
     "metadata": {},
     "output_type": "execute_result"
    }
   ],
   "source": [
    "llm.invoke(\"hy how are you\")"
   ]
  },
  {
   "cell_type": "code",
   "execution_count": 32,
   "metadata": {},
   "outputs": [],
   "source": [
    "# model is working fine as of now"
   ]
  },
  {
   "cell_type": "code",
   "execution_count": null,
   "metadata": {},
   "outputs": [],
   "source": []
  }
 ],
 "metadata": {
  "kernelspec": {
   "display_name": "Python 3",
   "language": "python",
   "name": "python3"
  },
  "language_info": {
   "codemirror_mode": {
    "name": "ipython",
    "version": 3
   },
   "file_extension": ".py",
   "mimetype": "text/x-python",
   "name": "python",
   "nbconvert_exporter": "python",
   "pygments_lexer": "ipython3",
   "version": "3.10.0"
  }
 },
 "nbformat": 4,
 "nbformat_minor": 2
}
