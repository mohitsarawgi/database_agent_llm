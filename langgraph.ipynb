{
 "cells": [
  {
   "cell_type": "code",
   "execution_count": 260,
   "metadata": {},
   "outputs": [],
   "source": [
    "from langchain_community.utilities.sql_database import SQLDatabase\n"
   ]
  },
  {
   "cell_type": "code",
   "execution_count": 261,
   "metadata": {},
   "outputs": [],
   "source": [
    "# loading a database using langchain\n",
    "\n",
    "db = SQLDatabase.from_uri(\"sqlite:///my_db.db\")"
   ]
  },
  {
   "cell_type": "code",
   "execution_count": 262,
   "metadata": {},
   "outputs": [
    {
     "data": {
      "text/plain": [
       "<langchain_community.utilities.sql_database.SQLDatabase at 0x7a54a1c89840>"
      ]
     },
     "execution_count": 262,
     "metadata": {},
     "output_type": "execute_result"
    }
   ],
   "source": [
    "db"
   ]
  },
  {
   "cell_type": "code",
   "execution_count": 263,
   "metadata": {},
   "outputs": [
    {
     "data": {
      "text/plain": [
       "'sqlite'"
      ]
     },
     "execution_count": 263,
     "metadata": {},
     "output_type": "execute_result"
    }
   ],
   "source": [
    "db.dialect"
   ]
  },
  {
   "cell_type": "code",
   "execution_count": 264,
   "metadata": {},
   "outputs": [
    {
     "data": {
      "text/plain": [
       "['customer', 'employee', 'orders']"
      ]
     },
     "execution_count": 264,
     "metadata": {},
     "output_type": "execute_result"
    }
   ],
   "source": [
    "db.get_usable_table_names()"
   ]
  },
  {
   "cell_type": "code",
   "execution_count": 265,
   "metadata": {},
   "outputs": [
    {
     "name": "stdout",
     "output_type": "stream",
     "text": [
      "Requirement already satisfied: langchain-groq in /home/mohit/Desktop/mlpipeline_project/mlflow_pipe/venv/lib/python3.10/site-packages (0.3.7)\n",
      "Requirement already satisfied: langchain-core<1.0.0,>=0.3.72 in /home/mohit/.local/lib/python3.10/site-packages (from langchain-groq) (0.3.74)\n",
      "Requirement already satisfied: groq<1,>=0.30.0 in /home/mohit/Desktop/mlpipeline_project/mlflow_pipe/venv/lib/python3.10/site-packages (from langchain-groq) (0.31.0)\n",
      "Requirement already satisfied: anyio<5,>=3.5.0 in /home/mohit/.local/lib/python3.10/site-packages (from groq<1,>=0.30.0->langchain-groq) (3.7.1)\n",
      "Requirement already satisfied: distro<2,>=1.7.0 in /home/mohit/Desktop/mlpipeline_project/mlflow_pipe/venv/lib/python3.10/site-packages (from groq<1,>=0.30.0->langchain-groq) (1.9.0)\n",
      "Requirement already satisfied: httpx<1,>=0.23.0 in /home/mohit/.local/lib/python3.10/site-packages (from groq<1,>=0.30.0->langchain-groq) (0.28.1)\n",
      "Requirement already satisfied: pydantic<3,>=1.9.0 in /home/mohit/.local/lib/python3.10/site-packages (from groq<1,>=0.30.0->langchain-groq) (2.11.7)\n",
      "Requirement already satisfied: sniffio in /home/mohit/.local/lib/python3.10/site-packages (from groq<1,>=0.30.0->langchain-groq) (1.3.0)\n",
      "Requirement already satisfied: typing-extensions<5,>=4.10 in /home/mohit/.local/lib/python3.10/site-packages (from groq<1,>=0.30.0->langchain-groq) (4.14.1)\n",
      "Requirement already satisfied: idna>=2.8 in /home/mohit/Desktop/mlpipeline_project/mlflow_pipe/venv/lib/python3.10/site-packages (from anyio<5,>=3.5.0->groq<1,>=0.30.0->langchain-groq) (3.10)\n",
      "Requirement already satisfied: exceptiongroup in /home/mohit/.local/lib/python3.10/site-packages (from anyio<5,>=3.5.0->groq<1,>=0.30.0->langchain-groq) (1.2.0)\n",
      "Requirement already satisfied: certifi in /home/mohit/Desktop/mlpipeline_project/mlflow_pipe/venv/lib/python3.10/site-packages (from httpx<1,>=0.23.0->groq<1,>=0.30.0->langchain-groq) (2025.7.9)\n",
      "Requirement already satisfied: httpcore==1.* in /home/mohit/.local/lib/python3.10/site-packages (from httpx<1,>=0.23.0->groq<1,>=0.30.0->langchain-groq) (1.0.9)\n",
      "Requirement already satisfied: h11>=0.16 in /home/mohit/.local/lib/python3.10/site-packages (from httpcore==1.*->httpx<1,>=0.23.0->groq<1,>=0.30.0->langchain-groq) (0.16.0)\n",
      "Requirement already satisfied: langsmith>=0.3.45 in /home/mohit/.local/lib/python3.10/site-packages (from langchain-core<1.0.0,>=0.3.72->langchain-groq) (0.4.16)\n",
      "Requirement already satisfied: tenacity!=8.4.0,<10.0.0,>=8.1.0 in /home/mohit/.local/lib/python3.10/site-packages (from langchain-core<1.0.0,>=0.3.72->langchain-groq) (9.1.2)\n",
      "Requirement already satisfied: jsonpatch<2.0,>=1.33 in /home/mohit/.local/lib/python3.10/site-packages (from langchain-core<1.0.0,>=0.3.72->langchain-groq) (1.33)\n",
      "Requirement already satisfied: PyYAML>=5.3 in /home/mohit/.local/lib/python3.10/site-packages (from langchain-core<1.0.0,>=0.3.72->langchain-groq) (6.0.2)\n",
      "Requirement already satisfied: packaging>=23.2 in /home/mohit/.local/lib/python3.10/site-packages (from langchain-core<1.0.0,>=0.3.72->langchain-groq) (25.0)\n",
      "Requirement already satisfied: jsonpointer>=1.9 in /home/mohit/.local/lib/python3.10/site-packages (from jsonpatch<2.0,>=1.33->langchain-core<1.0.0,>=0.3.72->langchain-groq) (3.0.0)\n",
      "Requirement already satisfied: annotated-types>=0.6.0 in /home/mohit/.local/lib/python3.10/site-packages (from pydantic<3,>=1.9.0->groq<1,>=0.30.0->langchain-groq) (0.6.0)\n",
      "Requirement already satisfied: pydantic-core==2.33.2 in /home/mohit/.local/lib/python3.10/site-packages (from pydantic<3,>=1.9.0->groq<1,>=0.30.0->langchain-groq) (2.33.2)\n",
      "Requirement already satisfied: typing-inspection>=0.4.0 in /home/mohit/.local/lib/python3.10/site-packages (from pydantic<3,>=1.9.0->groq<1,>=0.30.0->langchain-groq) (0.4.1)\n",
      "Requirement already satisfied: orjson>=3.9.14 in /home/mohit/.local/lib/python3.10/site-packages (from langsmith>=0.3.45->langchain-core<1.0.0,>=0.3.72->langchain-groq) (3.11.2)\n",
      "Requirement already satisfied: requests-toolbelt>=1.0.0 in /home/mohit/.local/lib/python3.10/site-packages (from langsmith>=0.3.45->langchain-core<1.0.0,>=0.3.72->langchain-groq) (1.0.0)\n",
      "Requirement already satisfied: requests>=2.0.0 in /home/mohit/.local/lib/python3.10/site-packages (from langsmith>=0.3.45->langchain-core<1.0.0,>=0.3.72->langchain-groq) (2.32.5)\n",
      "Requirement already satisfied: zstandard>=0.23.0 in /home/mohit/.local/lib/python3.10/site-packages (from langsmith>=0.3.45->langchain-core<1.0.0,>=0.3.72->langchain-groq) (0.24.0)\n",
      "Requirement already satisfied: charset_normalizer<4,>=2 in /home/mohit/.local/lib/python3.10/site-packages (from requests>=2.0.0->langsmith>=0.3.45->langchain-core<1.0.0,>=0.3.72->langchain-groq) (3.4.3)\n",
      "Requirement already satisfied: urllib3<3,>=1.21.1 in /home/mohit/Desktop/mlpipeline_project/mlflow_pipe/venv/lib/python3.10/site-packages (from requests>=2.0.0->langsmith>=0.3.45->langchain-core<1.0.0,>=0.3.72->langchain-groq) (2.5.0)\n",
      "Note: you may need to restart the kernel to use updated packages.\n"
     ]
    }
   ],
   "source": [
    "pip install langchain-groq"
   ]
  },
  {
   "cell_type": "code",
   "execution_count": 266,
   "metadata": {},
   "outputs": [],
   "source": [
    "from dotenv import load_dotenv\n",
    "import os\n",
    "load_dotenv()\n",
    "api_key = os.getenv(\"API_KEY\")"
   ]
  },
  {
   "cell_type": "code",
   "execution_count": 267,
   "metadata": {},
   "outputs": [],
   "source": [
    "from langchain_groq import ChatGroq"
   ]
  },
  {
   "cell_type": "code",
   "execution_count": 268,
   "metadata": {},
   "outputs": [],
   "source": [
    "llm = ChatGroq(model=\"llama3-70b-8192\", api_key = api_key)"
   ]
  },
  {
   "cell_type": "code",
   "execution_count": 269,
   "metadata": {},
   "outputs": [
    {
     "data": {
      "text/plain": [
       "AIMessage(content='Hi! I\\'m just an AI, I don\\'t have feelings or emotions like humans do, so I don\\'t have good or bad days. I\\'m always \"on\" and ready to help with any questions or tasks you may have! How can I assist you today?', additional_kwargs={}, response_metadata={'token_usage': {'completion_tokens': 56, 'prompt_tokens': 14, 'total_tokens': 70, 'completion_time': 0.11842281, 'prompt_time': 0.010359711, 'queue_time': 0.269768423, 'total_time': 0.128782521}, 'model_name': 'llama3-70b-8192', 'system_fingerprint': 'fp_bf16903a67', 'service_tier': 'on_demand', 'finish_reason': 'stop', 'logprobs': None}, id='run--ac310179-1ec5-4470-b17e-62a00159dc9a-0', usage_metadata={'input_tokens': 14, 'output_tokens': 56, 'total_tokens': 70})"
      ]
     },
     "execution_count": 269,
     "metadata": {},
     "output_type": "execute_result"
    }
   ],
   "source": [
    "llm.invoke(\"hy how are you\")"
   ]
  },
  {
   "cell_type": "code",
   "execution_count": 270,
   "metadata": {},
   "outputs": [],
   "source": [
    "# model is working fine as of now"
   ]
  },
  {
   "cell_type": "markdown",
   "metadata": {},
   "source": [
    "# Langchain Tools "
   ]
  },
  {
   "cell_type": "code",
   "execution_count": 271,
   "metadata": {},
   "outputs": [],
   "source": [
    "from langchain_community.agent_toolkits import SQLDatabaseToolkit"
   ]
  },
  {
   "cell_type": "code",
   "execution_count": 272,
   "metadata": {},
   "outputs": [],
   "source": [
    "toolkit = SQLDatabaseToolkit(db = db, llm = llm)"
   ]
  },
  {
   "cell_type": "code",
   "execution_count": 273,
   "metadata": {},
   "outputs": [],
   "source": [
    "tools = toolkit.get_tools()"
   ]
  },
  {
   "cell_type": "code",
   "execution_count": 274,
   "metadata": {},
   "outputs": [
    {
     "data": {
      "text/plain": [
       "[QuerySQLDatabaseTool(description=\"Input to this tool is a detailed and correct SQL query, output is a result from the database. If the query is not correct, an error message will be returned. If an error is returned, rewrite the query, check the query, and try again. If you encounter an issue with Unknown column 'xxxx' in 'field list', use sql_db_schema to query the correct table fields.\", db=<langchain_community.utilities.sql_database.SQLDatabase object at 0x7a54a1c89840>),\n",
       " InfoSQLDatabaseTool(description='Input to this tool is a comma-separated list of tables, output is the schema and sample rows for those tables. Be sure that the tables actually exist by calling sql_db_list_tables first! Example Input: table1, table2, table3', db=<langchain_community.utilities.sql_database.SQLDatabase object at 0x7a54a1c89840>),\n",
       " ListSQLDatabaseTool(db=<langchain_community.utilities.sql_database.SQLDatabase object at 0x7a54a1c89840>),\n",
       " QuerySQLCheckerTool(description='Use this tool to double check if your query is correct before executing it. Always use this tool before executing a query with sql_db_query!', db=<langchain_community.utilities.sql_database.SQLDatabase object at 0x7a54a1c89840>, llm=ChatGroq(client=<groq.resources.chat.completions.Completions object at 0x7a54a18160e0>, async_client=<groq.resources.chat.completions.AsyncCompletions object at 0x7a54a18167a0>, model_name='llama3-70b-8192', model_kwargs={}, groq_api_key=SecretStr('**********')), llm_chain=LLMChain(verbose=False, prompt=PromptTemplate(input_variables=['dialect', 'query'], input_types={}, partial_variables={}, template='\\n{query}\\nDouble check the {dialect} query above for common mistakes, including:\\n- Using NOT IN with NULL values\\n- Using UNION when UNION ALL should have been used\\n- Using BETWEEN for exclusive ranges\\n- Data type mismatch in predicates\\n- Properly quoting identifiers\\n- Using the correct number of arguments for functions\\n- Casting to the correct data type\\n- Using the proper columns for joins\\n\\nIf there are any of the above mistakes, rewrite the query. If there are no mistakes, just reproduce the original query.\\n\\nOutput the final SQL query only.\\n\\nSQL Query: '), llm=ChatGroq(client=<groq.resources.chat.completions.Completions object at 0x7a54a18160e0>, async_client=<groq.resources.chat.completions.AsyncCompletions object at 0x7a54a18167a0>, model_name='llama3-70b-8192', model_kwargs={}, groq_api_key=SecretStr('**********')), output_parser=StrOutputParser(), llm_kwargs={}))]"
      ]
     },
     "execution_count": 274,
     "metadata": {},
     "output_type": "execute_result"
    }
   ],
   "source": [
    "tools"
   ]
  },
  {
   "cell_type": "code",
   "execution_count": 275,
   "metadata": {},
   "outputs": [
    {
     "name": "stdout",
     "output_type": "stream",
     "text": [
      "sql_db_query\n",
      "sql_db_schema\n",
      "sql_db_list_tables\n",
      "sql_db_query_checker\n"
     ]
    }
   ],
   "source": [
    "# checking what tools i will be getting in toolkit\n",
    "for tool in tools:\n",
    "    print(tool.name)"
   ]
  },
  {
   "cell_type": "code",
   "execution_count": 276,
   "metadata": {},
   "outputs": [],
   "source": [
    "# to get any tool \n",
    "sql_db_query = next((tool for tool in tools if tool.name == \"sql_db_query\"), None)"
   ]
  },
  {
   "cell_type": "code",
   "execution_count": 277,
   "metadata": {},
   "outputs": [
    {
     "data": {
      "text/plain": [
       "QuerySQLDatabaseTool(description=\"Input to this tool is a detailed and correct SQL query, output is a result from the database. If the query is not correct, an error message will be returned. If an error is returned, rewrite the query, check the query, and try again. If you encounter an issue with Unknown column 'xxxx' in 'field list', use sql_db_schema to query the correct table fields.\", db=<langchain_community.utilities.sql_database.SQLDatabase object at 0x7a54a1c89840>)"
      ]
     },
     "execution_count": 277,
     "metadata": {},
     "output_type": "execute_result"
    }
   ],
   "source": [
    "sql_db_query"
   ]
  },
  {
   "cell_type": "code",
   "execution_count": 278,
   "metadata": {},
   "outputs": [],
   "source": [
    "list_table_tool = next((tool for tool in tools if tool.name == \"sql_db_list_tables\"), None)"
   ]
  },
  {
   "cell_type": "code",
   "execution_count": 279,
   "metadata": {},
   "outputs": [
    {
     "data": {
      "text/plain": [
       "'customer, employee, orders'"
      ]
     },
     "execution_count": 279,
     "metadata": {},
     "output_type": "execute_result"
    }
   ],
   "source": [
    "list_table_tool.invoke(\"\")"
   ]
  },
  {
   "cell_type": "code",
   "execution_count": 280,
   "metadata": {},
   "outputs": [],
   "source": [
    "schema_tool_db  =next(tool for tool in tools if tool.name == \"sql_db_schema\")"
   ]
  },
  {
   "cell_type": "code",
   "execution_count": 281,
   "metadata": {},
   "outputs": [
    {
     "name": "stdout",
     "output_type": "stream",
     "text": [
      "\n",
      "CREATE TABLE customer (\n",
      "\tcustomer_id INTEGER, \n",
      "\tfirst_name TEXT NOT NULL, \n",
      "\temail TEXT NOT NULL, \n",
      "\tphone TEXT, \n",
      "\tPRIMARY KEY (customer_id), \n",
      "\tUNIQUE (email)\n",
      ")\n",
      "\n",
      "/*\n",
      "3 rows from customer table:\n",
      "customer_id\tfirst_name\temail\tphone\n",
      "1\ta\ta@gmail.com\t123456\n",
      "2\tb\tb@gmail.com\t234567\n",
      "3\tc\tc@gmail.com\t345678\n",
      "*/\n"
     ]
    }
   ],
   "source": [
    "print(schema_tool_db.invoke(\"customer\"))"
   ]
  },
  {
   "cell_type": "code",
   "execution_count": 282,
   "metadata": {},
   "outputs": [],
   "source": [
    "# data base cannot be directly connected with langchain\n",
    "# we have created database wrapup and will use this in a flow"
   ]
  },
  {
   "cell_type": "code",
   "execution_count": 283,
   "metadata": {},
   "outputs": [],
   "source": [
    "# tool  decorator will convert any function into a tool\n",
    "from langchain_core.tools import tool\n",
    "@tool \n",
    "def db_query_tool(query:str)->str:\n",
    "    \"\"\"\n",
    "    Return the Result and execute sql query\n",
    "    if query invalied or return no result, an error message will be returned\n",
    "    \"\"\"\n",
    "    result = db.run_no_throw(query)\n",
    "    if not result:\n",
    "        return \"Error: query failed\"\n",
    "    return result"
   ]
  },
  {
   "cell_type": "code",
   "execution_count": 284,
   "metadata": {},
   "outputs": [
    {
     "data": {
      "text/plain": [
       "\"[(1, 'Mohit', 'mohit@gmail.com', '1-9-2025', 50000), (2, 'X', 'x@gmail.com', '1-9-2025', 10000), (3, 'Y', 'y@gmail.com', '1-9-2025', 20000), (4, 'Z', 'z@gmail.com', '1-9-2025', 30000), (5, 'w', 'w@gmail.com', '1-9-2025', 40000)]\""
      ]
     },
     "execution_count": 284,
     "metadata": {},
     "output_type": "execute_result"
    }
   ],
   "source": [
    "db_query_tool.invoke(\"select * from Employee;\")"
   ]
  },
  {
   "cell_type": "code",
   "execution_count": 285,
   "metadata": {},
   "outputs": [
    {
     "data": {
      "text/plain": [
       "\"[(1, 'Mohit', 'mohit@gmail.com', '1-9-2025', 50000), (2, 'X', 'x@gmail.com', '1-9-2025', 10000), (3, 'Y', 'y@gmail.com', '1-9-2025', 20000), (4, 'Z', 'z@gmail.com', '1-9-2025', 30000), (5, 'w', 'w@gmail.com', '1-9-2025', 40000)]\""
      ]
     },
     "execution_count": 285,
     "metadata": {},
     "output_type": "execute_result"
    }
   ],
   "source": [
    "db.run(\"select * from Employee;\")"
   ]
  },
  {
   "cell_type": "code",
   "execution_count": 286,
   "metadata": {},
   "outputs": [
    {
     "name": "stdout",
     "output_type": "stream",
     "text": [
      "Requirement already satisfied: langgraph in /home/mohit/Desktop/mlpipeline_project/mlflow_pipe/venv/lib/python3.10/site-packages (0.6.6)\n",
      "Requirement already satisfied: langchain-core>=0.1 in /home/mohit/.local/lib/python3.10/site-packages (from langgraph) (0.3.74)\n",
      "Requirement already satisfied: langgraph-checkpoint<3.0.0,>=2.1.0 in /home/mohit/Desktop/mlpipeline_project/mlflow_pipe/venv/lib/python3.10/site-packages (from langgraph) (2.1.1)\n",
      "Requirement already satisfied: langgraph-prebuilt<0.7.0,>=0.6.0 in /home/mohit/Desktop/mlpipeline_project/mlflow_pipe/venv/lib/python3.10/site-packages (from langgraph) (0.6.4)\n",
      "Requirement already satisfied: langgraph-sdk<0.3.0,>=0.2.2 in /home/mohit/Desktop/mlpipeline_project/mlflow_pipe/venv/lib/python3.10/site-packages (from langgraph) (0.2.4)\n",
      "Requirement already satisfied: pydantic>=2.7.4 in /home/mohit/.local/lib/python3.10/site-packages (from langgraph) (2.11.7)\n",
      "Requirement already satisfied: xxhash>=3.5.0 in /home/mohit/Desktop/mlpipeline_project/mlflow_pipe/venv/lib/python3.10/site-packages (from langgraph) (3.5.0)\n",
      "Requirement already satisfied: ormsgpack>=1.10.0 in /home/mohit/Desktop/mlpipeline_project/mlflow_pipe/venv/lib/python3.10/site-packages (from langgraph-checkpoint<3.0.0,>=2.1.0->langgraph) (1.10.0)\n",
      "Requirement already satisfied: httpx>=0.25.2 in /home/mohit/.local/lib/python3.10/site-packages (from langgraph-sdk<0.3.0,>=0.2.2->langgraph) (0.28.1)\n",
      "Requirement already satisfied: orjson>=3.10.1 in /home/mohit/.local/lib/python3.10/site-packages (from langgraph-sdk<0.3.0,>=0.2.2->langgraph) (3.11.2)\n",
      "Requirement already satisfied: anyio in /home/mohit/.local/lib/python3.10/site-packages (from httpx>=0.25.2->langgraph-sdk<0.3.0,>=0.2.2->langgraph) (3.7.1)\n",
      "Requirement already satisfied: certifi in /home/mohit/Desktop/mlpipeline_project/mlflow_pipe/venv/lib/python3.10/site-packages (from httpx>=0.25.2->langgraph-sdk<0.3.0,>=0.2.2->langgraph) (2025.7.9)\n",
      "Requirement already satisfied: httpcore==1.* in /home/mohit/.local/lib/python3.10/site-packages (from httpx>=0.25.2->langgraph-sdk<0.3.0,>=0.2.2->langgraph) (1.0.9)\n",
      "Requirement already satisfied: idna in /home/mohit/Desktop/mlpipeline_project/mlflow_pipe/venv/lib/python3.10/site-packages (from httpx>=0.25.2->langgraph-sdk<0.3.0,>=0.2.2->langgraph) (3.10)\n",
      "Requirement already satisfied: h11>=0.16 in /home/mohit/.local/lib/python3.10/site-packages (from httpcore==1.*->httpx>=0.25.2->langgraph-sdk<0.3.0,>=0.2.2->langgraph) (0.16.0)\n",
      "Requirement already satisfied: langsmith>=0.3.45 in /home/mohit/.local/lib/python3.10/site-packages (from langchain-core>=0.1->langgraph) (0.4.16)\n",
      "Requirement already satisfied: tenacity!=8.4.0,<10.0.0,>=8.1.0 in /home/mohit/.local/lib/python3.10/site-packages (from langchain-core>=0.1->langgraph) (9.1.2)\n",
      "Requirement already satisfied: jsonpatch<2.0,>=1.33 in /home/mohit/.local/lib/python3.10/site-packages (from langchain-core>=0.1->langgraph) (1.33)\n",
      "Requirement already satisfied: PyYAML>=5.3 in /home/mohit/.local/lib/python3.10/site-packages (from langchain-core>=0.1->langgraph) (6.0.2)\n",
      "Requirement already satisfied: typing-extensions>=4.7 in /home/mohit/.local/lib/python3.10/site-packages (from langchain-core>=0.1->langgraph) (4.14.1)\n",
      "Requirement already satisfied: packaging>=23.2 in /home/mohit/.local/lib/python3.10/site-packages (from langchain-core>=0.1->langgraph) (25.0)\n",
      "Requirement already satisfied: jsonpointer>=1.9 in /home/mohit/.local/lib/python3.10/site-packages (from jsonpatch<2.0,>=1.33->langchain-core>=0.1->langgraph) (3.0.0)\n",
      "Requirement already satisfied: requests-toolbelt>=1.0.0 in /home/mohit/.local/lib/python3.10/site-packages (from langsmith>=0.3.45->langchain-core>=0.1->langgraph) (1.0.0)\n",
      "Requirement already satisfied: requests>=2.0.0 in /home/mohit/.local/lib/python3.10/site-packages (from langsmith>=0.3.45->langchain-core>=0.1->langgraph) (2.32.5)\n",
      "Requirement already satisfied: zstandard>=0.23.0 in /home/mohit/.local/lib/python3.10/site-packages (from langsmith>=0.3.45->langchain-core>=0.1->langgraph) (0.24.0)\n",
      "Requirement already satisfied: annotated-types>=0.6.0 in /home/mohit/.local/lib/python3.10/site-packages (from pydantic>=2.7.4->langgraph) (0.6.0)\n",
      "Requirement already satisfied: pydantic-core==2.33.2 in /home/mohit/.local/lib/python3.10/site-packages (from pydantic>=2.7.4->langgraph) (2.33.2)\n",
      "Requirement already satisfied: typing-inspection>=0.4.0 in /home/mohit/.local/lib/python3.10/site-packages (from pydantic>=2.7.4->langgraph) (0.4.1)\n",
      "Requirement already satisfied: charset_normalizer<4,>=2 in /home/mohit/.local/lib/python3.10/site-packages (from requests>=2.0.0->langsmith>=0.3.45->langchain-core>=0.1->langgraph) (3.4.3)\n",
      "Requirement already satisfied: urllib3<3,>=1.21.1 in /home/mohit/Desktop/mlpipeline_project/mlflow_pipe/venv/lib/python3.10/site-packages (from requests>=2.0.0->langsmith>=0.3.45->langchain-core>=0.1->langgraph) (2.5.0)\n",
      "Requirement already satisfied: sniffio>=1.1 in /home/mohit/.local/lib/python3.10/site-packages (from anyio->httpx>=0.25.2->langgraph-sdk<0.3.0,>=0.2.2->langgraph) (1.3.0)\n",
      "Requirement already satisfied: exceptiongroup in /home/mohit/.local/lib/python3.10/site-packages (from anyio->httpx>=0.25.2->langgraph-sdk<0.3.0,>=0.2.2->langgraph) (1.2.0)\n",
      "Note: you may need to restart the kernel to use updated packages.\n"
     ]
    }
   ],
   "source": [
    "pip install langgraph"
   ]
  },
  {
   "cell_type": "code",
   "execution_count": 287,
   "metadata": {},
   "outputs": [],
   "source": [
    "# imports\n",
    "from typing import Annotated, Literal\n",
    "from langchain_core.messages import AIMessage\n",
    "from langchain_core.pydantic_v1 import BaseModel, Field\n",
    "from typing_extensions import TypedDict\n",
    "from langgraph.graph import END, StateGraph, START\n",
    "from langgraph.graph.message import AnyMessage, add_messages\n",
    "from typing import Any\n",
    "from langchain_core.messages import ToolMessage\n",
    "from langchain_core.runnables import RunnableLambda, RunnableWithFallbacks\n",
    "from langgraph.prebuilt import ToolNode\n",
    "\n"
   ]
  },
  {
   "cell_type": "code",
   "execution_count": 288,
   "metadata": {},
   "outputs": [
    {
     "data": {
      "text/plain": [
       "AIMessage(content='', additional_kwargs={'tool_calls': [{'id': 'kyg370pjm', 'function': {'arguments': '{\"query\":\"SELECT * FROM EMPLOYEE;\"}', 'name': 'db_query_tool'}, 'type': 'function'}]}, response_metadata={'token_usage': {'completion_tokens': 69, 'prompt_tokens': 1016, 'total_tokens': 1085, 'completion_time': 0.147687711, 'prompt_time': 0.082529916, 'queue_time': 0.269017263, 'total_time': 0.230217627}, 'model_name': 'llama3-70b-8192', 'system_fingerprint': 'fp_de9fa14705', 'service_tier': 'on_demand', 'finish_reason': 'tool_calls', 'logprobs': None}, id='run--a41407dc-2947-4597-acd8-e1bc28ff718c-0', tool_calls=[{'name': 'db_query_tool', 'args': {'query': 'SELECT * FROM EMPLOYEE;'}, 'id': 'kyg370pjm', 'type': 'tool_call'}], usage_metadata={'input_tokens': 1016, 'output_tokens': 69, 'total_tokens': 1085})"
      ]
     },
     "execution_count": 288,
     "metadata": {},
     "output_type": "execute_result"
    }
   ],
   "source": [
    "# Query check \n",
    "\n",
    "from langchain_core.prompts import ChatPromptTemplate\n",
    "\n",
    "query_check_system = \"\"\"Double check the sqlite query for common mistakes, including:\n",
    "- using NOT IN with NULL values\n",
    "- using UNION when UNION ALL should have been used\n",
    "- using BETWEEN for exclusive ranges\n",
    "- data types mismatch in predicators\n",
    "- properly quoting identifiers\n",
    "- using the correct number of arguments for functions\n",
    "- casting to the correct data types\n",
    "- using the proper coloums for joins\n",
    "\n",
    "if there are any of the above mistakes, rewrite the query, if no mistake just reproduce\n",
    "the original query.\n",
    "\n",
    "you will call the appropriate tool to execute the query after running this check.\n",
    "\"\"\"\n",
    "\n",
    "\n",
    "# if only there is query check it will call the db_query_tool, otherwise not\n",
    "\n",
    "query_check_promt = ChatPromptTemplate.from_messages([(\"system\", query_check_system), (\"placeholder\", \"{messages}\")])\n",
    "query_check = query_check_promt | llm.bind_tools([db_query_tool])\n",
    "query_check.invoke({\"messages\": [(\"user\", \"SELECT * FROM EMPLOYEE;\")]})"
   ]
  },
  {
   "cell_type": "code",
   "execution_count": 289,
   "metadata": {},
   "outputs": [],
   "source": [
    "# Query generation\n",
    "\n",
    "class SubmitFinalAnswer(BaseModel):\n",
    "    \"\"\"Submit the final answer to the user based on the query result.\"\"\"\n",
    "    final_answer: str = Field(..., description=\"The Final Answer to the user\")\n",
    "\n",
    "\n",
    "query_gen_system = \"\"\"\n",
    "you are a sql expert with strong attention to detail.\n",
    "\n",
    "Given a input question, output a syntactically correct sqlite query to run, then look at the results of the query and return the answer.\n",
    "do not call any tool besids submitfinalans to submit the final answer.\n",
    "\n",
    "when generating the query:\n",
    "\n",
    "output the sql query that answer the input questions without a tool call.\n",
    "\n",
    "unless the user specifies a specific number of example they wish to obtain, always limit your query to at most 5 results.\n",
    "you can  order the results by a relevant coloum to return the most interesting example in the database.\n",
    "\n",
    "never query for all the coloums from a specific table, only ask for the ralevnt coloums given the question.\n",
    "\n",
    "if you get any error while executing the query, rewrite the query and try again.\n",
    "\n",
    "if you get an empty result set, you should try to rewrite the query and try again.\n",
    "\n",
    "if you have enough information to ans the input question, simply invoice the appropriate\n",
    "tool to submit the final ans to the user\n",
    "\n",
    "do not make any dml statement (insert, delete, drop, etc,) to the databse. do not return any sql query except answer.\n",
    "\n",
    "\"\"\"\n",
    "\n",
    "\n",
    "query_gen_promt = ChatPromptTemplate.from_messages([(\"system\", query_gen_system), (\"placeholder\", \"{messages}\")])\n",
    "query_gen = query_gen_promt | llm.bind_tools([SubmitFinalAnswer])"
   ]
  },
  {
   "cell_type": "code",
   "execution_count": 290,
   "metadata": {},
   "outputs": [],
   "source": [
    "# Defining the state in which we create a workflow"
   ]
  },
  {
   "cell_type": "code",
   "execution_count": 291,
   "metadata": {},
   "outputs": [],
   "source": [
    "class State(TypedDict):\n",
    "    messages: Annotated[list[AnyMessage], add_messages]"
   ]
  },
  {
   "cell_type": "code",
   "execution_count": 292,
   "metadata": {},
   "outputs": [],
   "source": [
    "def first_tool_call(state:State)->dict[str, list[AIMessage]]:\n",
    "    return{\"messages\":[AIMessage(content=\"\", tool_calls=[{\"name\":\"sql_db_list_tables\", \"args\":{}, \"id\":\"tool_abcd123\"}])]}"
   ]
  },
  {
   "cell_type": "code",
   "execution_count": 293,
   "metadata": {},
   "outputs": [],
   "source": [
    "def handle_tool_error(state:State):\n",
    "    error = state.get(\"error\")\n",
    "    tool_calls = state[\"messages\"][-1].tool_calls\n",
    "    return{\n",
    "        \"messages\":[\n",
    "            ToolMessage(content=f\"Error:{repr(error)}\\n Hey Murkh apni galti sudhar.\", tool_call_id=tc[\"id\"],)\n",
    "            for tc in tool_calls\n",
    "        ]\n",
    "    }"
   ]
  },
  {
   "cell_type": "code",
   "execution_count": 294,
   "metadata": {},
   "outputs": [],
   "source": [
    "def create_tool_node_with_fallback(tools:list)->RunnableWithFallbacks[Any, dict]:\n",
    "    return ToolNode(tools).with_fallbacks([RunnableLambda(handle_tool_error)],exception_key=\"error\")\n",
    "    "
   ]
  },
  {
   "cell_type": "code",
   "execution_count": 295,
   "metadata": {},
   "outputs": [],
   "source": [
    "def model_check_query(state:State):\n",
    "    return {\"messages\":[query_check.invoke({\"messages\": [state[\"messages\"][-1]]})]}"
   ]
  },
  {
   "cell_type": "code",
   "execution_count": 296,
   "metadata": {},
   "outputs": [],
   "source": [
    "def query_gen_node(state:State):\n",
    "    message = query_gen.invoke(state)\n",
    "\n",
    "    # kabhi kabhi llm hallucinate karega tho,,,\n",
    "\n",
    "    tool_messages = []\n",
    "    if message.tool_calls:\n",
    "        for tc in message.tool_calls:\n",
    "            if tc[\"name\"]!= \"SubmitFinalAnswer\":\n",
    "                tool_messages.append(\n",
    "                    ToolMessage(\n",
    "                        content=f\"Error: The Wrong Tool Was called: {tc['name']}. Galti Sudharo Apni\",\n",
    "                        tool_call_id = tc[\"id\"],\n",
    "\n",
    "                    )\n",
    "                )\n",
    "    else:\n",
    "        tool_messages = []\n",
    "    return {\"messages\":[message] + tool_messages}"
   ]
  },
  {
   "cell_type": "code",
   "execution_count": 297,
   "metadata": {},
   "outputs": [],
   "source": [
    "def should_continue(state:State):\n",
    "    messages = state[\"messages\"]\n",
    "    last_message = messages[-1]\n",
    "    if getattr(last_message, \"tool_calls\", None):\n",
    "        return END\n",
    "    if last_message.content.startswith(\"Error:\"):\n",
    "        return \"query_gen\"\n",
    "    else:\n",
    "        return \"correct_query\""
   ]
  },
  {
   "cell_type": "code",
   "execution_count": 298,
   "metadata": {},
   "outputs": [],
   "source": [
    "# lets create a state workflow"
   ]
  },
  {
   "cell_type": "code",
   "execution_count": 299,
   "metadata": {},
   "outputs": [],
   "source": [
    "workflow = StateGraph(State)"
   ]
  },
  {
   "cell_type": "code",
   "execution_count": 300,
   "metadata": {},
   "outputs": [
    {
     "data": {
      "text/plain": [
       "<langgraph.graph.state.StateGraph at 0x7a54a1c8a320>"
      ]
     },
     "execution_count": 300,
     "metadata": {},
     "output_type": "execute_result"
    }
   ],
   "source": [
    "workflow.add_node(\"first_tool_call\", first_tool_call)\n",
    "workflow.add_node(\"list_table_tool\", create_tool_node_with_fallback([list_table_tool]) )\n",
    "workflow.add_node(\"get_schema_tool\", create_tool_node_with_fallback([schema_tool_db]))\n",
    "model_get_schema = llm.bind_tools([schema_tool_db])\n",
    "workflow.add_node(\"model_get_schema\", lambda state: {\"messages\": [model_get_schema.invoke(state[\"messages\"])],},)\n",
    "workflow.add_node(\"query_gen\", query_gen_node)\n",
    "workflow.add_node(\"correct_query\", model_check_query)\n",
    "workflow.add_node(\"execute_query\", create_tool_node_with_fallback([db_query_tool]))\n"
   ]
  },
  {
   "cell_type": "code",
   "execution_count": 301,
   "metadata": {},
   "outputs": [
    {
     "data": {
      "text/plain": [
       "<langgraph.graph.state.StateGraph at 0x7a54a1c8a320>"
      ]
     },
     "execution_count": 301,
     "metadata": {},
     "output_type": "execute_result"
    }
   ],
   "source": [
    "workflow.add_edge(START, \"first_tool_call\")\n",
    "workflow.add_edge(\"first_tool_call\", \"list_table_tool\")\n",
    "workflow.add_edge(\"list_table_tool\", \"model_get_schema\")\n",
    "workflow.add_edge(\"model_get_schema\", \"get_schema_tool\")\n",
    "workflow.add_edge(\"get_schema_tool\", \"query_gen\")\n",
    "workflow.add_conditional_edges(\"query_gen\", should_continue,)\n",
    "workflow.add_edge(\"correct_query\", \"execute_query\")\n",
    "workflow.add_edge(\"execute_query\", \"query_gen\")\n"
   ]
  },
  {
   "cell_type": "code",
   "execution_count": 302,
   "metadata": {},
   "outputs": [],
   "source": [
    "app = workflow.compile()"
   ]
  },
  {
   "cell_type": "code",
   "execution_count": 306,
   "metadata": {},
   "outputs": [
    {
     "data": {
      "image/png": "[encoded data removed]",
      "text/plain": [
       "<IPython.core.display.Image object>"
      ]
     },
     "metadata": {},
     "output_type": "display_data"
    }
   ],
   "source": [
    "from IPython.display import Image, display\n",
    "from langchain_core.runnables.graph import MermaidDrawMethod\n",
    "\n",
    "display(\n",
    "    Image(\n",
    "        app.get_graph().draw_mermaid_png(\n",
    "            draw_method=MermaidDrawMethod.API,\n",
    "        )\n",
    "    )\n",
    ")"
   ]
  },
  {
   "cell_type": "code",
   "execution_count": 310,
   "metadata": {},
   "outputs": [],
   "source": [
    "query = {\"messages\": [(\"user\", \"tell me the name of employee whos salary is more then 20000\")]}"
   ]
  },
  {
   "cell_type": "code",
   "execution_count": 311,
   "metadata": {},
   "outputs": [
    {
     "data": {
      "text/plain": [
       "{'messages': [HumanMessage(content='tell me the name of employee whos salary is more then 20000', additional_kwargs={}, response_metadata={}, id='c6066e68-dff3-4d0c-ba0d-68e3e69ed739'),\n",
       "  AIMessage(content='', additional_kwargs={}, response_metadata={}, id='5b9d42e3-6287-446d-994a-71f047188b29', tool_calls=[{'name': 'sql_db_list_tables', 'args': {}, 'id': 'tool_abcd123', 'type': 'tool_call'}]),\n",
       "  ToolMessage(content='customer, employee, orders', name='sql_db_list_tables', id='05dc12e6-0088-439b-b522-83a6bf42f628', tool_call_id='tool_abcd123'),\n",
       "  AIMessage(content='', additional_kwargs={'tool_calls': [{'id': '79mszv67e', 'function': {'arguments': '{\"table_names\":\"employee\"}', 'name': 'sql_db_schema'}, 'type': 'function'}]}, response_metadata={'token_usage': {'completion_tokens': 35, 'prompt_tokens': 1037, 'total_tokens': 1072, 'completion_time': 0.068412711, 'prompt_time': 0.083553456, 'queue_time': 0.271031773, 'total_time': 0.151966167}, 'model_name': 'llama3-70b-8192', 'system_fingerprint': 'fp_de9fa14705', 'service_tier': 'on_demand', 'finish_reason': 'tool_calls', 'logprobs': None}, id='run--5b765b1d-82e7-43f1-b87f-7a3f559067d2-0', tool_calls=[{'name': 'sql_db_schema', 'args': {'table_names': 'employee'}, 'id': '79mszv67e', 'type': 'tool_call'}], usage_metadata={'input_tokens': 1037, 'output_tokens': 35, 'total_tokens': 1072}),\n",
       "  ToolMessage(content='\\nCREATE TABLE employee (\\n\\temp_id INTEGER, \\n\\tfirst_name TEXT NOT NULL, \\n\\temail TEXT NOT NULL, \\n\\thire_date TEXT NOT NULL, \\n\\tPRIMARY KEY (emp_id), \\n\\tUNIQUE (email)\\n)\\n\\n/*\\n3 rows from employee table:\\nemp_id\\tfirst_name\\temail\\thire_date\\n1\\tMohit\\tmohit@gmail.com\\t1-9-2025\\n2\\tX\\tx@gmail.com\\t1-9-2025\\n3\\tY\\ty@gmail.com\\t1-9-2025\\n*/', name='sql_db_schema', id='a714a8f2-054e-4d94-a557-f70c50ecc6fc', tool_call_id='79mszv67e'),\n",
       "  AIMessage(content='Here is the SQL query to get the name of the employee whose salary is more than 20000:\\n```\\nSELECT first_name \\nFROM employee \\nWHERE emp_id IN (SELECT emp_id FROM employee_salary WHERE salary > 20000) \\nLIMIT 5;\\n```\\nLet me run this query and get the result.\\n\\n', additional_kwargs={'tool_calls': [{'id': 'sgmhxrjt5', 'function': {'arguments': '{\"final_answer\":\"\"}', 'name': 'SubmitFinalAnswer'}, 'type': 'function'}, {'id': '0p5x3d7rf', 'function': {'arguments': '{\"final_answer\":\"\"}', 'name': 'SubmitFinalAnswer'}, 'type': 'function'}]}, response_metadata={'token_usage': {'completion_tokens': 99, 'prompt_tokens': 1393, 'total_tokens': 1492, 'completion_time': 0.258461968, 'prompt_time': 0.108889237, 'queue_time': 0.271631151, 'total_time': 0.367351205}, 'model_name': 'llama3-70b-8192', 'system_fingerprint': 'fp_de9fa14705', 'service_tier': 'on_demand', 'finish_reason': 'tool_calls', 'logprobs': None}, id='run--2dda0462-f8f9-43d7-82da-22148087e3e3-0', tool_calls=[{'name': 'SubmitFinalAnswer', 'args': {'final_answer': ''}, 'id': 'sgmhxrjt5', 'type': 'tool_call'}, {'name': 'SubmitFinalAnswer', 'args': {'final_answer': ''}, 'id': '0p5x3d7rf', 'type': 'tool_call'}], usage_metadata={'input_tokens': 1393, 'output_tokens': 99, 'total_tokens': 1492})]}"
      ]
     },
     "execution_count": 311,
     "metadata": {},
     "output_type": "execute_result"
    }
   ],
   "source": [
    "app.invoke(query)"
   ]
  },
  {
   "cell_type": "code",
   "execution_count": null,
   "metadata": {},
   "outputs": [
    {
     "ename": "NameError",
     "evalue": "name 'app' is not defined",
     "output_type": "error",
     "traceback": [
      "\u001b[0;31m---------------------------------------------------------------------------\u001b[0m",
      "\u001b[0;31mNameError\u001b[0m                                 Traceback (most recent call last)",
      "Cell \u001b[0;32mIn[50], line 1\u001b[0m\n\u001b[0;32m----> 1\u001b[0m \u001b[43mapp\u001b[49m\u001b[38;5;241m.\u001b[39mstream()\n",
      "\u001b[0;31mNameError\u001b[0m: name 'app' is not defined"
     ]
    }
   ],
   "source": [
    "app.stream()"
   ]
  },
  {
   "cell_type": "code",
   "execution_count": null,
   "metadata": {},
   "outputs": [],
   "source": []
  }
 ],
 "metadata": {
  "kernelspec": {
   "display_name": "Python 3",
   "language": "python",
   "name": "python3"
  },
  "language_info": {
   "codemirror_mode": {
    "name": "ipython",
    "version": 3
   },
   "file_extension": ".py",
   "mimetype": "text/x-python",
   "name": "python",
   "nbconvert_exporter": "python",
   "pygments_lexer": "ipython3",
   "version": "3.10.0"
  }
 },
 "nbformat": 4,
 "nbformat_minor": 2
}
